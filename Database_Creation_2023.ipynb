{
  "nbformat": 4,
  "nbformat_minor": 0,
  "metadata": {
    "colab": {
      "provenance": [],
      "authorship_tag": "ABX9TyNRvUw1SZjtjqp4TRA0hnm/"
    },
    "kernelspec": {
      "name": "python3",
      "display_name": "Python 3"
    },
    "language_info": {
      "name": "python"
    }
  },
  "cells": [
    {
      "cell_type": "code",
      "execution_count": null,
      "metadata": {
        "id": "-wptBiynydzn"
      },
      "outputs": [],
      "source": [
        "pip install pybaseball"
      ]
    },
    {
      "cell_type": "code",
      "source": [
        "# 2023 season injured player list\n",
        "\n",
        "import requests\n",
        "from bs4 import BeautifulSoup\n",
        "\n",
        "url = 'https://www.spotrac.com/mlb/injured-list/2023/cumulative-player/pitching/'\n",
        "res = requests.get(url)\n",
        "soup = BeautifulSoup(res.text, 'html.parser')\n",
        "tbody = soup.find_all('tbody')[3]\n",
        "players = tbody.find_all(class_='player')\n",
        "player_list = []\n",
        "player_lists = []\n",
        "player_url = []\n",
        "player_dic_list = []\n",
        "\n",
        "for i in range(len(players) - 1):\n",
        "  player_list.append(players[i].find('a').text)\n",
        "  player_url.append(players[i].find('a').get('href'))\n",
        "  player_dic_list.append({'player':players[i].find('a').text, 'year': 2023,'Shoulder':0, 'Arm':0, 'Elbow':0, 'ribs':0,'oblique':0,'Back':0,'Neck':0,'Knee':0,'Finger':0,'Ankle':0,'Hip':0,'Hamstring':0,'Achilles':0,'Wrist':0,'Calf':0,'Biceps':0,'Hand':0,'Leg':0,'Shin':0})\n",
        "player_lists.append(player_list)"
      ],
      "metadata": {
        "id": "Dm28NL7Yykl4"
      },
      "execution_count": null,
      "outputs": []
    },
    {
      "cell_type": "code",
      "source": [
        "# 2022 season pitcher data\n",
        "\n",
        "from pybaseball import pitching_stats_range\n",
        "import pandas as pd\n",
        "import numpy as np\n",
        "\n",
        "pitch_data_2022 = pitching_stats_range('2022-04-01', '2022-10-30')"
      ],
      "metadata": {
        "id": "bV_50le4zEMj"
      },
      "execution_count": null,
      "outputs": []
    },
    {
      "cell_type": "code",
      "source": [
        "# 2023 player injury history\n",
        "\n",
        "histories = []\n",
        "pitch_data_list = [pitch_data_2022]\n",
        "for pitch_data, player_list in zip(pitch_data_list, player_lists):\n",
        "  all_pitcher_name_list = pitch_data['Name'].values.tolist()\n",
        "  all_pitcher_team_list = pitch_data['Tm'].values.tolist()\n",
        "\n",
        "  #converting name\n",
        "  for i, name in enumerate(all_pitcher_name_list):\n",
        "    name = name.replace(' ', '-')\n",
        "    all_pitcher_name_list[i] = name\n",
        "\n",
        "  for name, team in zip(all_pitcher_name_list, all_pitcher_team_list):\n",
        "    player_url = f'https://www.spotrac.com/mlb/{team}/{name}/injuries/'\n",
        "    try:\n",
        "      res = requests.get(player_url)\n",
        "    except:\n",
        "      continue\n",
        "    soup = BeautifulSoup(res.text, 'html.parser')\n",
        "    try:\n",
        "        table = soup.find_all(class_='salaryTable hidden-xs')[0]\n",
        "    except IndexError:\n",
        "      continue\n",
        "\n",
        "\n",
        "    tbody = table.find_all('tbody')[0]\n",
        "    tr = tbody.find_all('tr')\n",
        "    injuries = []\n",
        "    for i in range(len(tr)):\n",
        "      year = tr[i].find_all('td')[0].text\n",
        "      td = tr[i].find_all('td')[2].text\n",
        "      injury_dic = {'name': name.replace('-', ' '), 'year':year[-4:], 'injury':td}\n",
        "      injuries.append(injury_dic)\n",
        "\n",
        "    histories.append(injuries)"
      ],
      "metadata": {
        "id": "ZhtF_ZWUy3e4"
      },
      "execution_count": null,
      "outputs": []
    },
    {
      "cell_type": "code",
      "source": [
        "#counting injuries\n",
        "\n",
        "for i in range(len(player_dic_list)):\n",
        "  for j in range(len(histories[i])):\n",
        "    if int(histories[i][j]['year']) <= int(player_dic_list[i]['year']):\n",
        "      if histories[i][j]['injury'] in player_dic_list[i]:\n",
        "        injury_part = histories[i][j]['injury']\n",
        "        player_dic_list[i][injury_part] = player_dic_list[i][injury_part] + 1"
      ],
      "metadata": {
        "id": "U-Wb4_cKy7Vo"
      },
      "execution_count": null,
      "outputs": []
    },
    {
      "cell_type": "code",
      "source": [
        "# database creation\n",
        "\n",
        "count = 0\n",
        "year = 2021\n",
        "pitch_data_list = [pitch_data_2022]\n",
        "for pitch_data, player_list in zip(pitch_data_list, player_lists):\n",
        "  year += 1\n",
        "  pitch_data = pitch_data[['Name','Age', 'Lev', 'Tm', 'G', 'GS', 'W', 'L', 'SV', 'IP', 'H', 'R', 'ER', 'BB', 'SO', 'HR', 'HBP', 'ERA', 'AB', '2B', '3B', 'IBB', 'GDP', 'SF', 'SB', 'CS', 'PO', 'BF', 'Pit', 'Str', 'StL', 'StS', 'GB/FB', 'LD', 'PU', 'WHIP', 'BAbip', 'SO9', 'SO/W']]\n",
        "  # adding injury column\n",
        "  pitch_data['Injury'] = 0\n",
        "  # adding injury parts\n",
        "  pitch_data['Shoulder'] = 0\n",
        "  pitch_data['Arm'] = 0\n",
        "  pitch_data['Elbow'] = 0\n",
        "  pitch_data['Ribs'] = 0\n",
        "  pitch_data['Oblique'] = 0\n",
        "  pitch_data['Back'] = 0\n",
        "  pitch_data['Neck'] = 0\n",
        "  pitch_data['Knee'] = 0\n",
        "  pitch_data['Finger'] = 0\n",
        "  pitch_data['Ankle'] = 0\n",
        "  pitch_data['Hip'] = 0\n",
        "  pitch_data['Hamstring'] = 0\n",
        "  pitch_data['Achilles'] = 0\n",
        "  pitch_data['Wrist'] = 0\n",
        "  pitch_data['Calf'] = 0\n",
        "  pitch_data['Biceps'] = 0\n",
        "  pitch_data['Hand'] = 0\n",
        "  pitch_data['Leg'] = 0\n",
        "  pitch_data['Shin'] = 0\n",
        "  pitch_data['Year'] = year\n",
        "\n",
        "  player_name_df = pitch_data['Name']\n",
        "  players_name_list = player_name_df.tolist()\n",
        "\n",
        "  for name in players_name_list:\n",
        "    for i, history in enumerate(histories):\n",
        "      if history != []:\n",
        "        if history[0]['name'] == name:\n",
        "          for i in range(len(history)):\n",
        "            if ((int(history[i]['year']) <= year) and (int(history[i]['year']) != 1)) and (history[i]['injury'] in ['Shoulder', 'Arm', 'Elbow', 'Ribs','Oblique','Back','Neck','Knee','Finger','Ankle','Hip','Hamstring','Achilles','Wrist','Calf','Biceps','Hand','Leg','Shin']):\n",
        "              pitch_data.loc[(pitch_data['Name'] == history[0]['name']) & (pitch_data['Year'] == year), history[i]['injury']] += 1\n",
        "          break\n",
        "\n",
        "\n",
        "  # if a player is injured, injury = 1\n",
        "  for player in player_list:\n",
        "    pitch_data.loc[pitch_data['Name'] == player, 'Injury'] = 1\n",
        "\n",
        "  # replacing missing values&inf to 0\n",
        "  pitch_data = pitch_data.replace([np.inf, -np.inf], np.nan)\n",
        "  pitch_data = pitch_data.fillna(0)\n",
        "  #conbining DataFrames\n",
        "  count = count + 1\n",
        "  if count == 1:\n",
        "    pitch_data_all = pitch_data\n",
        "  else:\n",
        "    pitch_data_all = pd.concat([pitch_data_all, pitch_data])\n",
        "\n",
        "# creating csv file\n",
        "pitch_data_all.to_csv('pitch_data_2023.csv')\n",
        "# downloading csv file\n",
        "from google.colab import files\n",
        "files.download('pitch_data_2023.csv')"
      ],
      "metadata": {
        "id": "t6kawjozzUnm"
      },
      "execution_count": null,
      "outputs": []
    }
  ]
}