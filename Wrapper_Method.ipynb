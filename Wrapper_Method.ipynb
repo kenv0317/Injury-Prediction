{
  "nbformat": 4,
  "nbformat_minor": 0,
  "metadata": {
    "colab": {
      "provenance": [],
      "authorship_tag": "ABX9TyNivR4vf4MYE+oZYUPyqfbo",
      "include_colab_link": true
    },
    "kernelspec": {
      "name": "python3",
      "display_name": "Python 3"
    },
    "language_info": {
      "name": "python"
    }
  },
  "cells": [
    {
      "cell_type": "markdown",
      "metadata": {
        "id": "view-in-github",
        "colab_type": "text"
      },
      "source": [
        "<a href=\"https://colab.research.google.com/github/kenv0317/Injury-Prediction/blob/main/Wrapper_Method.ipynb\" target=\"_parent\"><img src=\"https://colab.research.google.com/assets/colab-badge.svg\" alt=\"Open In Colab\"/></a>"
      ]
    },
    {
      "cell_type": "code",
      "execution_count": 1,
      "metadata": {
        "id": "FtHWqjmDAj8c"
      },
      "outputs": [],
      "source": [
        "import pandas as pd\n",
        "import numpy as np\n",
        "from mlxtend.feature_selection import SequentialFeatureSelector as SFS\n",
        "from sklearn.ensemble import RandomForestRegressor, RandomForestClassifier"
      ]
    },
    {
      "cell_type": "code",
      "source": [
        "# uploading 2015-2022 database\n",
        "from google.colab import files\n",
        "\n",
        "uploaded = files.upload()\n",
        "pitch_data_all = pd.read_csv('pitch_data_2015_2022 - pitch_data_2015_2022.csv')"
      ],
      "metadata": {
        "id": "eDtmelm8A-Rr"
      },
      "execution_count": null,
      "outputs": []
    },
    {
      "cell_type": "code",
      "source": [
        "# 訓練データ\n",
        "x_train = pitch_data_all.drop(['Name','Lev','Tm','Injury','Year'], axis=1)\n",
        "y_train = pitch_data_all['Injury']\n",
        "\n",
        "#step foward\n",
        "sfs1 = SFS(RandomForestClassifier(n_jobs=4),\n",
        "           k_features=15,   # いくつの特徴量を出力させたいのか\n",
        "           forward=True,\n",
        "           floating=False,\n",
        "           verbose=2,\n",
        "           scoring='roc_auc', # 'r2' なども選択できる。\n",
        "           cv=3)\n",
        "\n",
        "sfs1 = sfs1.fit(np.array(x_train.fillna(0)), y_train)\n",
        "\n",
        "selected_feat = x_train.columns[list(sfs1.k_feature_idx_)]\n",
        "print(selected_feat)"
      ],
      "metadata": {
        "id": "XLF_iWhlDOe4"
      },
      "execution_count": null,
      "outputs": []
    },
    {
      "cell_type": "code",
      "source": [
        "# 訓練データ\n",
        "x_train = pitch_data_all.drop(['Name','Lev','Tm','Injury','Year'], axis=1)\n",
        "y_train = pitch_data_all['Injury']\n",
        "\n",
        "#step backward\n",
        "sfs1 = SFS(RandomForestClassifier(n_jobs=4),\n",
        "           k_features=15,   # いくつの特徴量を出力させたいのか\n",
        "           forward=False,   # False -> Step Backward\n",
        "           floating=False,\n",
        "           verbose=2,\n",
        "           scoring='roc_auc', # 'r2' なども選択できる。\n",
        "           cv=3)\n",
        "\n",
        "sfs1 = sfs1.fit(np.array(x_train.fillna(0)), y_train)\n",
        "\n",
        "selected_feat = x_train.columns[list(sfs1.k_feature_idx_)]\n",
        "print(selected_feat)"
      ],
      "metadata": {
        "id": "cyvbn8spTUUK"
      },
      "execution_count": null,
      "outputs": []
    }
  ]
}