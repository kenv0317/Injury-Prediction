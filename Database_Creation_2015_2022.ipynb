{
  "nbformat": 4,
  "nbformat_minor": 0,
  "metadata": {
    "colab": {
      "provenance": [],
      "authorship_tag": "ABX9TyNT1lYipnaGvY2Hmey2a6aM",
      "include_colab_link": true
    },
    "kernelspec": {
      "name": "python3",
      "display_name": "Python 3"
    },
    "language_info": {
      "name": "python"
    }
  },
  "cells": [
    {
      "cell_type": "markdown",
      "metadata": {
        "id": "view-in-github",
        "colab_type": "text"
      },
      "source": [
        "<a href=\"https://colab.research.google.com/github/kenv0317/Injury-Prediction/blob/main/Database_Creation_2015_2022.ipynb\" target=\"_parent\"><img src=\"https://colab.research.google.com/assets/colab-badge.svg\" alt=\"Open In Colab\"/></a>"
      ]
    },
    {
      "cell_type": "code",
      "execution_count": null,
      "metadata": {
        "id": "asaymSipuVGT"
      },
      "outputs": [],
      "source": [
        "pip install pybaseball"
      ]
    },
    {
      "cell_type": "code",
      "source": [
        "# 2015 - 2022 season injured player list\n",
        "\n",
        "import requests\n",
        "from bs4 import BeautifulSoup\n",
        "\n",
        "years = [2015, 2016, 2017, 2018, 2019, 2020, 2021, 2022]\n",
        "player_lists = []\n",
        "player_dic_list = []\n",
        "player_url = []\n",
        "\n",
        "for year in years:\n",
        "  player_list = []\n",
        "  url = f'https://www.spotrac.com/mlb/injured-list/{year}/cumulative-player/pitching/'\n",
        "  res = requests.get(url)\n",
        "  soup = BeautifulSoup(res.text, 'html.parser')\n",
        "  tbody = soup.find_all('tbody')[3]\n",
        "  players = tbody.find_all(class_='player')\n",
        "  for i in range(len(players) - 1):\n",
        "    player_list.append(players[i].find('a').text)\n",
        "    player_url.append(players[i].find('a').get('href'))\n",
        "    player_dic_list.append({'player':players[i].find('a').text, 'year': year,'Shoulder':0, 'Arm':0, 'Elbow':0, 'ribs':0,'oblique':0,'Back':0,'Neck':0,'Knee':0,'Finger':0,'Ankle':0,'Hip':0,'Hamstring':0,'Achilles':0,'Wrist':0,'Calf':0,'Biceps':0,'Hand':0,'Leg':0,'Shin':0})\n",
        "  player_lists.append(player_list)"
      ],
      "metadata": {
        "id": "2S6dX6Iwu6_O"
      },
      "execution_count": null,
      "outputs": []
    },
    {
      "cell_type": "code",
      "source": [
        "# 2015 - 2022 season pitcher data\n",
        "\n",
        "from pybaseball import pitching_stats_range\n",
        "import pandas as pd\n",
        "import numpy as np\n",
        "\n",
        "pitch_data_2022 = pitching_stats_range('2022-04-01', '2022-10-30')\n",
        "pitch_data_2021 = pitching_stats_range('2021-04-01', '2021-10-30')\n",
        "pitch_data_2020 = pitching_stats_range('2020-04-01', '2020-10-30')\n",
        "pitch_data_2019 = pitching_stats_range('2019-04-01', '2019-10-30')\n",
        "pitch_data_2018 = pitching_stats_range('2018-04-01', '2018-10-30')\n",
        "pitch_data_2017 = pitching_stats_range('2017-04-01', '2017-10-30')\n",
        "pitch_data_2016 = pitching_stats_range('2016-04-01', '2016-10-30')\n",
        "pitch_data_2015 = pitching_stats_range('2015-04-01', '2015-10-30')"
      ],
      "metadata": {
        "id": "X-gTjugLv-IL"
      },
      "execution_count": null,
      "outputs": []
    },
    {
      "cell_type": "code",
      "source": [
        "# player injury history\n",
        "\n",
        "histories = []\n",
        "pitch_data_list = [pitch_data_2015, pitch_data_2016, pitch_data_2017, pitch_data_2018, pitch_data_2019, pitch_data_2020, pitch_data_2021, pitch_data_2022]\n",
        "for pitch_data, player_list in zip(pitch_data_list, player_lists):\n",
        "  all_pitcher_name_list = pitch_data['Name'].values.tolist()\n",
        "  all_pitcher_team_list = pitch_data['Tm'].values.tolist()\n",
        "\n",
        "  #converting name\n",
        "  for i, name in enumerate(all_pitcher_name_list):\n",
        "    name = name.replace(' ', '-')\n",
        "    all_pitcher_name_list[i] = name\n",
        "\n",
        "  for name, team in zip(all_pitcher_name_list, all_pitcher_team_list):\n",
        "    player_url = f'https://www.spotrac.com/mlb/{team}/{name}/injuries/'\n",
        "    try:\n",
        "      res = requests.get(player_url)\n",
        "    except:\n",
        "      continue\n",
        "    soup = BeautifulSoup(res.text, 'html.parser')\n",
        "    try:\n",
        "        table = soup.find_all(class_='salaryTable hidden-xs')[0]\n",
        "    except IndexError:\n",
        "      continue\n",
        "\n",
        "\n",
        "    tbody = table.find_all('tbody')[0]\n",
        "    tr = tbody.find_all('tr')\n",
        "    injuries = []\n",
        "    for i in range(len(tr)):\n",
        "      year = tr[i].find_all('td')[0].text\n",
        "      td = tr[i].find_all('td')[2].text\n",
        "      injury_dic = {'name': name.replace('-', ' '), 'year':year[-4:], 'injury':td}\n",
        "      injuries.append(injury_dic)\n",
        "\n",
        "    histories.append(injuries)"
      ],
      "metadata": {
        "id": "zJv1CyJpvMRK"
      },
      "execution_count": null,
      "outputs": []
    },
    {
      "cell_type": "code",
      "source": [
        "#counting injuries\n",
        "\n",
        "for i in range(len(player_dic_list)):\n",
        "  for j in range(len(histories[i])):\n",
        "    if int(histories[i][j]['year']) <= int(player_dic_list[i]['year']):\n",
        "      if histories[i][j]['injury'] in player_dic_list[i]:\n",
        "        injury_part = histories[i][j]['injury']\n",
        "        player_dic_list[i][injury_part] = player_dic_list[i][injury_part] + 1"
      ],
      "metadata": {
        "id": "7TWyXywavxXn"
      },
      "execution_count": null,
      "outputs": []
    },
    {
      "cell_type": "code",
      "source": [
        "# database creation\n",
        "\n",
        "\n",
        "year = 2014\n",
        "for pitch_data, player_list in zip(pitch_data_list, player_lists):\n",
        "  year += 1\n",
        "  pitch_data = pitch_data[['Name','Age', 'Lev', 'Tm', 'G', 'GS', 'W', 'L', 'SV', 'IP', 'H', 'R', 'ER', 'BB', 'SO', 'HR', 'HBP', 'ERA', 'AB', '2B', '3B', 'IBB', 'GDP', 'SF', 'SB', 'CS', 'PO', 'BF', 'Pit', 'Str', 'StL', 'StS', 'GB/FB', 'LD', 'PU', 'WHIP', 'BAbip', 'SO9', 'SO/W']]\n",
        "  # adding injury column\n",
        "  pitch_data['Injury'] = 0\n",
        "  # adding injury parts\n",
        "  pitch_data['Shoulder'] = 0\n",
        "  pitch_data['Arm'] = 0\n",
        "  pitch_data['Elbow'] = 0\n",
        "  pitch_data['Ribs'] = 0\n",
        "  pitch_data['Oblique'] = 0\n",
        "  pitch_data['Back'] = 0\n",
        "  pitch_data['Neck'] = 0\n",
        "  pitch_data['Knee'] = 0\n",
        "  pitch_data['Finger'] = 0\n",
        "  pitch_data['Ankle'] = 0\n",
        "  pitch_data['Hip'] = 0\n",
        "  pitch_data['Hamstring'] = 0\n",
        "  pitch_data['Achilles'] = 0\n",
        "  pitch_data['Wrist'] = 0\n",
        "  pitch_data['Calf'] = 0\n",
        "  pitch_data['Biceps'] = 0\n",
        "  pitch_data['Hand'] = 0\n",
        "  pitch_data['Leg'] = 0\n",
        "  pitch_data['Shin'] = 0\n",
        "  pitch_data['Year'] = year\n",
        "\n",
        "  player_name_df = pitch_data['Name']\n",
        "  players_name_list = player_name_df.tolist()\n",
        "\n",
        "  for name in players_name_list:\n",
        "    for i, history in enumerate(histories):\n",
        "      if history != []:\n",
        "        if history[0]['name'] == name:\n",
        "          for i in range(len(history)):\n",
        "            if ((int(history[i]['year']) <= year) and (int(history[i]['year']) != 1)) and (history[i]['injury'] in ['Shoulder', 'Arm', 'Elbow', 'Ribs','Oblique','Back','Neck','Knee','Finger','Ankle','Hip','Hamstring','Achilles','Wrist','Calf','Biceps','Hand','Leg','Shin']):\n",
        "              pitch_data.loc[(pitch_data['Name'] == history[0]['name']) & (pitch_data['Year'] == year), history[i]['injury']] += 1\n",
        "          break\n",
        "\n",
        "\n",
        "  # if a player is injured, injury = 1\n",
        "  for player in player_list:\n",
        "    pitch_data.loc[pitch_data['Name'] == player, 'Injury'] = 1\n",
        "\n",
        "  # replacing missing values&inf to 0\n",
        "  pitch_data = pitch_data.replace([np.inf, -np.inf], np.nan)\n",
        "  pitch_data = pitch_data.fillna(0)\n",
        "  #conbining DataFrames\n",
        "  count = count + 1\n",
        "  if count == 1:\n",
        "    pitch_data_all = pitch_data\n",
        "  else:\n",
        "    pitch_data_all = pd.concat([pitch_data_all, pitch_data])\n",
        "\n",
        "# creating csv file\n",
        "pitch_data_all.to_csv('pitch_data_2015_2022.csv')\n",
        "# downloading csv file\n",
        "from google.colab import files\n",
        "files.download('pitch_data_2015_2022.csv')"
      ],
      "metadata": {
        "id": "TT8ZFT3UwK_z"
      },
      "execution_count": null,
      "outputs": []
    }
  ]
}